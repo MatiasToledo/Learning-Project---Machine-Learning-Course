{
 "cells": [
  {
   "cell_type": "markdown",
   "metadata": {},
   "source": [
    "# Final Project - Machine Learning for Business Intelligence\n",
    "\n",
    "This was the final project that we worked with two mates in the Machine Learning in an undergraduate course at the University of Concepción, for Industrial Engineers."
   ]
  },
  {
   "cell_type": "markdown",
   "metadata": {},
   "source": [
    "## Import libraries"
   ]
  },
  {
   "cell_type": "code",
   "execution_count": 1,
   "metadata": {},
   "outputs": [],
   "source": [
    "import glob\n",
    "import numpy as np\n",
    "import pandas as pd\n",
    "import matplotlib.pyplot as plt\n",
    "import scipy.misc\n",
    "from PIL import Image\n",
    "from numpy import array\n",
    "from astropy.io import fits\n",
    "from skimage.transform import resize"
   ]
  },
  {
   "cell_type": "code",
   "execution_count": 1,
   "metadata": {},
   "outputs": [],
   "source": [
    "# By limitations\n",
    "Largo = 80\n",
    "Alto = 80"
   ]
  },
  {
   "cell_type": "markdown",
   "metadata": {},
   "source": [
    "## Matrix generator"
   ]
  },
  {
   "cell_type": "code",
   "execution_count": 4,
   "metadata": {},
   "outputs": [],
   "source": [
    "# Genera matriz de imagenes\n",
    "def imgmatrix_generator(i,img_matrix,image):    \n",
    "    \n",
    "    image_file = Image.open(image)\n",
    "    image_resize = image_file.convert('L')\n",
    "    image_resize = image_resize.resize((Largo,Alto), Image.NEAREST)\n",
    "    image_array = np.array(image_resize)\n",
    "    img_matrix[i] = image_array\n",
    "    \n",
    "    return img_matrix"
   ]
  },
  {
   "cell_type": "markdown",
   "metadata": {},
   "source": [
    "## Preprocessing"
   ]
  },
  {
   "cell_type": "code",
   "execution_count": 5,
   "metadata": {},
   "outputs": [],
   "source": [
    "# Ingresar Datos\n",
    "# Training Set\n",
    "X_tra_nor = glob.glob(\"./data/train/normal/*.jpeg\")\n",
    "X_tra_neu = glob.glob(\"./data/train/pneumonia/*.jpeg\")\n",
    "X_tra = X_tra_nor + X_tra_neu\n",
    "# Validation Set\n",
    "X_val_nor = glob.glob(\"./data/val/normal/*.jpeg\")\n",
    "X_val_neu = glob.glob(\"./data/val/pneumonia/*.jpeg\")\n",
    "X_val = X_val_nor + X_val_neu\n",
    "# Testing Set\n",
    "X_test_nor = glob.glob(\"./data/test/normal/*.jpeg\")\n",
    "X_test_neu = glob.glob(\"./data/test/pneumonia/*.jpeg\")\n",
    "X_test = X_test_nor + X_test_neu"
   ]
  },
  {
   "cell_type": "code",
   "execution_count": 7,
   "metadata": {},
   "outputs": [],
   "source": [
    "# Columna con 1 para personas normales\n",
    "X_tra_normal=(X_tra_nor[0],1)\n",
    "for i in range(len(X_tra_nor)-1):\n",
    "    i=i+1\n",
    "    xg_tra=(X_tra_nor[i],1)\n",
    "    X_tra_normal=np.vstack((X_tra_normal,xg_tra))\n",
    "# Columna con 1 para personas normales\n",
    "X_val_normal=(X_val_nor[0],1)\n",
    "for i in range(len(X_val_nor)-1):\n",
    "    i=i+1\n",
    "    xg_val=(X_val_nor[i],1)\n",
    "    X_val_normal=np.vstack((X_val_normal,xg_val))\n",
    "# Columna con 1 para personas normales\n",
    "X_test_normal=(X_test_nor[0],1)\n",
    "for i in range(len(X_test_nor)-1):\n",
    "    i=i+1\n",
    "    xg_test=(X_test_nor[i],1)\n",
    "    X_test_normal=np.vstack((X_test_normal,xg_test))"
   ]
  },
  {
   "cell_type": "code",
   "execution_count": 8,
   "metadata": {},
   "outputs": [],
   "source": [
    "# Columna con 0 para personas con pneumonia\n",
    "X_tra_pneumonia=(X_tra_neu[0],0)\n",
    "for i in range(len(X_tra_neu)-1):\n",
    "    i=i+1\n",
    "    xb_tra=(X_tra_neu[i],0)\n",
    "    X_tra_pneumonia=np.vstack((X_tra_pneumonia,xb_tra))\n",
    "# Columna con 0 para personas con pneumonia\n",
    "X_val_pneumonia=(X_val_neu[0],0)\n",
    "for i in range(len(X_val_neu)-1):\n",
    "    i=i+1\n",
    "    xb_val=(X_val_neu[i],0)\n",
    "    X_val_pneumonia=np.vstack((X_val_pneumonia,xb_val))\n",
    "# Columna con 0 para personas con pneumonia\n",
    "X_test_pneumonia=(X_test_neu[0],0)\n",
    "for i in range(len(X_test_neu)-1):\n",
    "    i=i+1\n",
    "    xb_test=(X_test_neu[i],0)\n",
    "    X_test_pneumonia=np.vstack((X_test_pneumonia,xb_test))"
   ]
  },
  {
   "cell_type": "code",
   "execution_count": 9,
   "metadata": {},
   "outputs": [],
   "source": [
    "xx_tra=np.vstack((X_tra_normal,X_tra_pneumonia))\n",
    "xx_val=np.vstack((X_val_normal,X_val_pneumonia))\n",
    "xx_test=np.vstack((X_test_normal,X_test_pneumonia))\n",
    "\n",
    "from numpy.random import shuffle\n",
    "shuffle(xx_tra)\n",
    "shuffle(xx_val)\n",
    "shuffle(xx_test)"
   ]
  },
  {
   "cell_type": "code",
   "execution_count": 10,
   "metadata": {},
   "outputs": [],
   "source": [
    "# Obtengo valores de X y de Y\n",
    "y_tra=xx_tra[:,1]\n",
    "X_tra=xx_tra[:,0]\n",
    "y_val=xx_val[:,1]\n",
    "X_val=xx_val[:,0]\n",
    "y_test=xx_test[:,1]\n",
    "X_test=xx_test[:,0]"
   ]
  },
  {
   "cell_type": "code",
   "execution_count": 11,
   "metadata": {},
   "outputs": [
    {
     "name": "stderr",
     "output_type": "stream",
     "text": [
      "C:\\ProgramData\\Anaconda3\\lib\\site-packages\\h5py\\__init__.py:36: FutureWarning: Conversion of the second argument of issubdtype from `float` to `np.floating` is deprecated. In future, it will be treated as `np.float64 == np.dtype(float).type`.\n",
      "  from ._conv import register_converters as _register_converters\n",
      "Using TensorFlow backend.\n"
     ]
    }
   ],
   "source": [
    "from keras.utils.np_utils import to_categorical\n",
    "Y_tra = to_categorical(y_tra, num_classes=None)\n",
    "Y_val = to_categorical(y_val, num_classes=None)\n",
    "Y_test = to_categorical(y_test, num_classes=None)"
   ]
  },
  {
   "cell_type": "code",
   "execution_count": 12,
   "metadata": {
    "scrolled": true
   },
   "outputs": [],
   "source": [
    "# Matriz de Imagenes: Número de Matrices, Filas, Columnas\n",
    "Images_Matrix_Tra = np.zeros((len(X_tra),Alto,Largo))\n",
    "Images_Matrix_Val = np.zeros((len(X_val),Alto,Largo))\n",
    "Images_Matrix_Test = np.zeros((len(X_test),Alto,Largo))"
   ]
  },
  {
   "cell_type": "code",
   "execution_count": 13,
   "metadata": {},
   "outputs": [],
   "source": [
    "# Agrego de Matrices a la Matriz Principal\n",
    "for i in range(len(X_tra)):\n",
    "    Images_Matrix_Tra = imgmatrix_generator(i,Images_Matrix_Tra,X_tra[i])\n",
    "Images_Matrix_Tra = Images_Matrix_Tra.reshape(len(X_tra),1,80,80)"
   ]
  },
  {
   "cell_type": "code",
   "execution_count": 14,
   "metadata": {},
   "outputs": [],
   "source": [
    "for i in range(len(X_val)):\n",
    "    Images_Matrix_Val = imgmatrix_generator(i,Images_Matrix_Val,X_val[i])\n",
    "Images_Matrix_Val = Images_Matrix_Val.reshape(len(X_val),1,80,80)"
   ]
  },
  {
   "cell_type": "code",
   "execution_count": 15,
   "metadata": {},
   "outputs": [],
   "source": [
    "for i in range(len(X_test)):\n",
    "    Images_Matrix_Test = imgmatrix_generator(i,Images_Matrix_Test,X_test[i])\n",
    "Images_Matrix_Test = Images_Matrix_Test.reshape(len(X_test),1,80,80)"
   ]
  },
  {
   "cell_type": "code",
   "execution_count": 16,
   "metadata": {},
   "outputs": [
    {
     "name": "stdout",
     "output_type": "stream",
     "text": [
      "(5216, 1, 80, 80)\n",
      "(16, 1, 80, 80)\n",
      "(624, 1, 80, 80)\n"
     ]
    }
   ],
   "source": [
    "print(Images_Matrix_Tra.shape)\n",
    "print(Images_Matrix_Val.shape)\n",
    "print(Images_Matrix_Test.shape)"
   ]
  },
  {
   "cell_type": "markdown",
   "metadata": {},
   "source": [
    "# Proporción en los datos"
   ]
  },
  {
   "cell_type": "code",
   "execution_count": 17,
   "metadata": {},
   "outputs": [
    {
     "name": "stdout",
     "output_type": "stream",
     "text": [
      "(5216, 1, 80, 80)\n",
      "(5216, 2)\n",
      "(16, 1, 80, 80)\n",
      "(16, 2)\n",
      "(624, 1, 80, 80)\n",
      "(624, 2)\n"
     ]
    }
   ],
   "source": [
    "print(Images_Matrix_Tra.shape)\n",
    "print(Y_tra.shape)\n",
    "print(Images_Matrix_Val.shape)\n",
    "print(Y_val.shape)\n",
    "print(Images_Matrix_Test.shape)\n",
    "print(Y_test.shape)"
   ]
  },
  {
   "cell_type": "code",
   "execution_count": 18,
   "metadata": {
    "scrolled": false
   },
   "outputs": [],
   "source": [
    "Test = pd.DataFrame(Y_test)\n",
    "Train = pd.DataFrame(Y_tra)"
   ]
  },
  {
   "cell_type": "code",
   "execution_count": 19,
   "metadata": {
    "scrolled": false
   },
   "outputs": [
    {
     "data": {
      "text/plain": [
       "array([[<matplotlib.axes._subplots.AxesSubplot object at 0x00000207694C3048>]],\n",
       "      dtype=object)"
      ]
     },
     "execution_count": 19,
     "metadata": {},
     "output_type": "execute_result"
    },
    {
     "data": {
      "image/png": "[encoded data removed]",
      "text/plain": [
       "<matplotlib.figure.Figure at 0x20769415c88>"
      ]
     },
     "metadata": {},
     "output_type": "display_data"
    },
    {
     "data": {
      "image/png": "[encoded data removed]",
      "text/plain": [
       "<matplotlib.figure.Figure at 0x2077b2cb860>"
      ]
     },
     "metadata": {},
     "output_type": "display_data"
    }
   ],
   "source": [
    "Test.hist(0)\n",
    "Train.hist(0)"
   ]
  },
  {
   "cell_type": "markdown",
   "metadata": {},
   "source": [
    "# CNN"
   ]
  },
  {
   "cell_type": "code",
   "execution_count": 20,
   "metadata": {},
   "outputs": [],
   "source": [
    "import keras\n",
    "from keras.models import Sequential\n",
    "from keras.layers import Dense, Conv2D, MaxPooling2D, Dropout, Flatten\n",
    "from keras import backend as K\n",
    "from keras.layers.normalization import BatchNormalization\n",
    "K.set_image_dim_ordering('th')"
   ]
  },
  {
   "cell_type": "code",
   "execution_count": 21,
   "metadata": {},
   "outputs": [],
   "source": [
    "# F1-Score (descontinuado en Keras 2.0)\n",
    "from keras import backend as K\n",
    "\n",
    "def f1(y_true, y_pred):\n",
    "    def recall(y_true, y_pred):\n",
    "        \"\"\"Recall metric.\n",
    "\n",
    "        Only computes a batch-wise average of recall.\n",
    "\n",
    "        Computes the recall, a metric for multi-label classification of\n",
    "        how many relevant items are selected.\n",
    "        \"\"\"\n",
    "        true_positives = K.sum(K.round(K.clip(y_true * y_pred, 0, 1)))\n",
    "        possible_positives = K.sum(K.round(K.clip(y_true, 0, 1)))\n",
    "        recall = true_positives / (possible_positives + K.epsilon())\n",
    "        return recall\n",
    "\n",
    "    def precision(y_true, y_pred):\n",
    "        \"\"\"Precision metric.\n",
    "\n",
    "        Only computes a batch-wise average of precision.\n",
    "\n",
    "        Computes the precision, a metric for multi-label classification of\n",
    "        how many selected items are relevant.\n",
    "        \"\"\"\n",
    "        true_positives = K.sum(K.round(K.clip(y_true * y_pred, 0, 1)))\n",
    "        predicted_positives = K.sum(K.round(K.clip(y_pred, 0, 1)))\n",
    "        precision = true_positives / (predicted_positives + K.epsilon())\n",
    "        return precision\n",
    "    precision = precision(y_true, y_pred)\n",
    "    recall = recall(y_true, y_pred)\n",
    "    return 2*((precision*recall)/(precision+recall+K.epsilon()))"
   ]
  },
  {
   "cell_type": "code",
   "execution_count": 22,
   "metadata": {},
   "outputs": [],
   "source": [
    "def createModel(images_size=80):\n",
    "    model = Sequential()\n",
    "    \n",
    "    model.add(Conv2D(32, (7, 7), activation='relu', input_shape=(1,images_size,images_size)))\n",
    "    model.add(BatchNormalization())\n",
    "    model.add(MaxPooling2D(pool_size=(2, 2)))\n",
    "    model.add(Dropout(0.25))\n",
    "\n",
    "    model.add(Conv2D(64, (6, 6), activation='relu'))\n",
    "    model.add(BatchNormalization())\n",
    "    model.add(MaxPooling2D(pool_size=(2, 2)))\n",
    "    model.add(Dropout(0.25))\n",
    "\n",
    "    model.add(Conv2D(128, (4, 4), activation='relu'))\n",
    "    model.add(BatchNormalization())\n",
    "    model.add(MaxPooling2D(pool_size=(2, 2)))\n",
    "    model.add(Dropout(0.25))\n",
    "\n",
    "    model.add(Conv2D(256, (2, 2), activation='relu'))\n",
    "    model.add(BatchNormalization())\n",
    "    model.add(MaxPooling2D(pool_size=(2, 2)))\n",
    "    model.add(Dropout(0.25))\n",
    "    \n",
    "    model.add(Flatten())\n",
    "    model.add(Dense(1024, activation='relu'))\n",
    "    model.add(Dropout(0.5))\n",
    "    model.add(Dense(2, activation='softmax'))\n",
    "    \n",
    "    return model"
   ]
  },
  {
   "cell_type": "code",
   "execution_count": 23,
   "metadata": {
    "scrolled": false
   },
   "outputs": [
    {
     "name": "stdout",
     "output_type": "stream",
     "text": [
      "_________________________________________________________________\n",
      "Layer (type)                 Output Shape              Param #   \n",
      "=================================================================\n",
      "conv2d_1 (Conv2D)            (None, 32, 74, 74)        1600      \n",
      "_________________________________________________________________\n",
      "batch_normalization_1 (Batch (None, 32, 74, 74)        296       \n",
      "_________________________________________________________________\n",
      "max_pooling2d_1 (MaxPooling2 (None, 32, 37, 37)        0         \n",
      "_________________________________________________________________\n",
      "dropout_1 (Dropout)          (None, 32, 37, 37)        0         \n",
      "_________________________________________________________________\n",
      "conv2d_2 (Conv2D)            (None, 64, 32, 32)        73792     \n",
      "_________________________________________________________________\n",
      "batch_normalization_2 (Batch (None, 64, 32, 32)        128       \n",
      "_________________________________________________________________\n",
      "max_pooling2d_2 (MaxPooling2 (None, 64, 16, 16)        0         \n",
      "_________________________________________________________________\n",
      "dropout_2 (Dropout)          (None, 64, 16, 16)        0         \n",
      "_________________________________________________________________\n",
      "conv2d_3 (Conv2D)            (None, 128, 13, 13)       131200    \n",
      "_________________________________________________________________\n",
      "batch_normalization_3 (Batch (None, 128, 13, 13)       52        \n",
      "_________________________________________________________________\n",
      "max_pooling2d_3 (MaxPooling2 (None, 128, 6, 6)         0         \n",
      "_________________________________________________________________\n",
      "dropout_3 (Dropout)          (None, 128, 6, 6)         0         \n",
      "_________________________________________________________________\n",
      "conv2d_4 (Conv2D)            (None, 256, 5, 5)         131328    \n",
      "_________________________________________________________________\n",
      "batch_normalization_4 (Batch (None, 256, 5, 5)         20        \n",
      "_________________________________________________________________\n",
      "max_pooling2d_4 (MaxPooling2 (None, 256, 2, 2)         0         \n",
      "_________________________________________________________________\n",
      "dropout_4 (Dropout)          (None, 256, 2, 2)         0         \n",
      "_________________________________________________________________\n",
      "flatten_1 (Flatten)          (None, 1024)              0         \n",
      "_________________________________________________________________\n",
      "dense_1 (Dense)              (None, 1024)              1049600   \n",
      "_________________________________________________________________\n",
      "dropout_5 (Dropout)          (None, 1024)              0         \n",
      "_________________________________________________________________\n",
      "dense_2 (Dense)              (None, 2)                 2050      \n",
      "=================================================================\n",
      "Total params: 1,390,066\n",
      "Trainable params: 1,389,818\n",
      "Non-trainable params: 248\n",
      "_________________________________________________________________\n",
      "Train on 5216 samples, validate on 16 samples\n",
      "Epoch 1/100\n",
      "5216/5216 [==============================] - 574s 110ms/step - loss: 0.5894 - acc: 0.7793 - f1: 0.7793 - val_loss: 1.0636 - val_acc: 0.5625 - val_f1: 0.5625\n",
      "Epoch 2/100\n",
      "5216/5216 [==============================] - 586s 112ms/step - loss: 0.2592 - acc: 0.8909 - f1: 0.8909 - val_loss: 0.4411 - val_acc: 0.8125 - val_f1: 0.8125\n",
      "Epoch 3/100\n",
      "5216/5216 [==============================] - 557s 107ms/step - loss: 0.2207 - acc: 0.9133 - f1: 0.9133 - val_loss: 3.3921 - val_acc: 0.5000 - val_f1: 0.5000\n",
      "Epoch 4/100\n",
      "5216/5216 [==============================] - 552s 106ms/step - loss: 0.1963 - acc: 0.9197 - f1: 0.9197 - val_loss: 0.2872 - val_acc: 0.8750 - val_f1: 0.8750\n",
      "Epoch 5/100\n",
      "5216/5216 [==============================] - 551s 106ms/step - loss: 0.1781 - acc: 0.9350 - f1: 0.9350 - val_loss: 0.7180 - val_acc: 0.7500 - val_f1: 0.7500\n",
      "Epoch 6/100\n",
      "5216/5216 [==============================] - 550s 105ms/step - loss: 0.1779 - acc: 0.9300 - f1: 0.9300 - val_loss: 0.5697 - val_acc: 0.6875 - val_f1: 0.6875\n",
      "Epoch 7/100\n",
      "5216/5216 [==============================] - 553s 106ms/step - loss: 0.1626 - acc: 0.9352 - f1: 0.9352 - val_loss: 0.4189 - val_acc: 0.6875 - val_f1: 0.6875\n",
      "Epoch 8/100\n",
      "5216/5216 [==============================] - 551s 106ms/step - loss: 0.1572 - acc: 0.9415 - f1: 0.9415 - val_loss: 0.6953 - val_acc: 0.6875 - val_f1: 0.6875\n",
      "Epoch 9/100\n",
      "5216/5216 [==============================] - 549s 105ms/step - loss: 0.1401 - acc: 0.9454 - f1: 0.9454 - val_loss: 0.4331 - val_acc: 0.6875 - val_f1: 0.6875\n",
      "Epoch 10/100\n",
      "5216/5216 [==============================] - 553s 106ms/step - loss: 0.1430 - acc: 0.9467 - f1: 0.9467 - val_loss: 0.5751 - val_acc: 0.7500 - val_f1: 0.7500\n",
      "Epoch 11/100\n",
      "5216/5216 [==============================] - 553s 106ms/step - loss: 0.1244 - acc: 0.9526 - f1: 0.9526 - val_loss: 0.1739 - val_acc: 1.0000 - val_f1: 1.0000\n",
      "Epoch 12/100\n",
      "5216/5216 [==============================] - 552s 106ms/step - loss: 0.1259 - acc: 0.9538 - f1: 0.9538 - val_loss: 0.1054 - val_acc: 1.0000 - val_f1: 1.0000\n",
      "Epoch 13/100\n",
      "5216/5216 [==============================] - 550s 105ms/step - loss: 0.1132 - acc: 0.9548 - f1: 0.9548 - val_loss: 0.0922 - val_acc: 0.9375 - val_f1: 0.9375\n",
      "Epoch 14/100\n",
      "5216/5216 [==============================] - 550s 105ms/step - loss: 0.1123 - acc: 0.9603 - f1: 0.9603 - val_loss: 1.7280 - val_acc: 0.6875 - val_f1: 0.6875\n",
      "Epoch 15/100\n",
      "5216/5216 [==============================] - 550s 106ms/step - loss: 0.1004 - acc: 0.9643 - f1: 0.9643 - val_loss: 0.1763 - val_acc: 0.8750 - val_f1: 0.8750\n",
      "Epoch 16/100\n",
      "5216/5216 [==============================] - 565s 108ms/step - loss: 0.0978 - acc: 0.9628 - f1: 0.9628 - val_loss: 1.2564 - val_acc: 0.6875 - val_f1: 0.6875\n",
      "Epoch 17/100\n",
      "5216/5216 [==============================] - 552s 106ms/step - loss: 0.1064 - acc: 0.9618 - f1: 0.9618 - val_loss: 0.1865 - val_acc: 0.9375 - val_f1: 0.9375\n",
      "Epoch 18/100\n",
      "5216/5216 [==============================] - 551s 106ms/step - loss: 0.0942 - acc: 0.9684 - f1: 0.9684 - val_loss: 0.8046 - val_acc: 0.6875 - val_f1: 0.6875\n",
      "Epoch 19/100\n",
      "5216/5216 [==============================] - 550s 105ms/step - loss: 0.0989 - acc: 0.9651 - f1: 0.9651 - val_loss: 1.6950 - val_acc: 0.6875 - val_f1: 0.6875\n",
      "Epoch 20/100\n",
      "5216/5216 [==============================] - 562s 108ms/step - loss: 0.0832 - acc: 0.9678 - f1: 0.9678 - val_loss: 0.7405 - val_acc: 0.8125 - val_f1: 0.8125\n",
      "Epoch 21/100\n",
      "5216/5216 [==============================] - 550s 105ms/step - loss: 0.0806 - acc: 0.9711 - f1: 0.9711 - val_loss: 0.4832 - val_acc: 0.8125 - val_f1: 0.8125\n",
      "Epoch 22/100\n",
      "5216/5216 [==============================] - 552s 106ms/step - loss: 0.0790 - acc: 0.9716 - f1: 0.9716 - val_loss: 0.1439 - val_acc: 0.8750 - val_f1: 0.8750\n",
      "Epoch 23/100\n",
      "5216/5216 [==============================] - 550s 105ms/step - loss: 0.0813 - acc: 0.9689 - f1: 0.9689 - val_loss: 0.0252 - val_acc: 1.0000 - val_f1: 1.0000\n",
      "Epoch 24/100\n",
      "5216/5216 [==============================] - 553s 106ms/step - loss: 0.0717 - acc: 0.9737 - f1: 0.9737 - val_loss: 0.1623 - val_acc: 0.9375 - val_f1: 0.9375\n",
      "Epoch 25/100\n",
      "5216/5216 [==============================] - 550s 105ms/step - loss: 0.0731 - acc: 0.9716 - f1: 0.9716 - val_loss: 0.0859 - val_acc: 0.9375 - val_f1: 0.9375\n",
      "Epoch 26/100\n",
      "5216/5216 [==============================] - 551s 106ms/step - loss: 0.0705 - acc: 0.9760 - f1: 0.9760 - val_loss: 0.1185 - val_acc: 0.9375 - val_f1: 0.9375\n",
      "Epoch 27/100\n",
      "5216/5216 [==============================] - 563s 108ms/step - loss: 0.0640 - acc: 0.9739 - f1: 0.9739 - val_loss: 0.3224 - val_acc: 0.9375 - val_f1: 0.9375\n",
      "Epoch 28/100\n",
      "5216/5216 [==============================] - 552s 106ms/step - loss: 0.0632 - acc: 0.9768 - f1: 0.9768 - val_loss: 0.0886 - val_acc: 1.0000 - val_f1: 1.0000\n",
      "Epoch 29/100\n",
      "5216/5216 [==============================] - 550s 106ms/step - loss: 0.0669 - acc: 0.9734 - f1: 0.9734 - val_loss: 0.1556 - val_acc: 0.9375 - val_f1: 0.9375\n",
      "Epoch 30/100\n",
      "5216/5216 [==============================] - 552s 106ms/step - loss: 0.0586 - acc: 0.9787 - f1: 0.9787 - val_loss: 0.3241 - val_acc: 0.9375 - val_f1: 0.9375\n",
      "Epoch 31/100\n",
      "5216/5216 [==============================] - 551s 106ms/step - loss: 0.0661 - acc: 0.9770 - f1: 0.9770 - val_loss: 0.4331 - val_acc: 0.9375 - val_f1: 0.9375\n",
      "Epoch 32/100\n",
      "5216/5216 [==============================] - 549s 105ms/step - loss: 0.0568 - acc: 0.9780 - f1: 0.9780 - val_loss: 0.2767 - val_acc: 0.8750 - val_f1: 0.8750\n",
      "Epoch 33/100\n",
      "5216/5216 [==============================] - 549s 105ms/step - loss: 0.0597 - acc: 0.9772 - f1: 0.9772 - val_loss: 0.2879 - val_acc: 0.8750 - val_f1: 0.8750\n",
      "Epoch 34/100\n",
      "5216/5216 [==============================] - 551s 106ms/step - loss: 0.0542 - acc: 0.9808 - f1: 0.9808 - val_loss: 0.1147 - val_acc: 0.9375 - val_f1: 0.9375\n",
      "Epoch 35/100\n",
      "5216/5216 [==============================] - 552s 106ms/step - loss: 0.0541 - acc: 0.9827 - f1: 0.9827 - val_loss: 0.3209 - val_acc: 0.9375 - val_f1: 0.9375\n",
      "Epoch 36/100\n",
      "5216/5216 [==============================] - 553s 106ms/step - loss: 0.0467 - acc: 0.9806 - f1: 0.9806 - val_loss: 0.7750 - val_acc: 0.8125 - val_f1: 0.8125\n",
      "Epoch 37/100\n",
      "5216/5216 [==============================] - 559s 107ms/step - loss: 0.0453 - acc: 0.9841 - f1: 0.9841 - val_loss: 0.0493 - val_acc: 1.0000 - val_f1: 1.0000\n",
      "Epoch 38/100\n",
      "5216/5216 [==============================] - 550s 105ms/step - loss: 0.0450 - acc: 0.9827 - f1: 0.9827 - val_loss: 0.2127 - val_acc: 0.8750 - val_f1: 0.8750\n",
      "Epoch 39/100\n",
      "5216/5216 [==============================] - 552s 106ms/step - loss: 0.0428 - acc: 0.9845 - f1: 0.9845 - val_loss: 0.0603 - val_acc: 1.0000 - val_f1: 1.0000\n",
      "Epoch 40/100\n",
      "5216/5216 [==============================] - 550s 105ms/step - loss: 0.0518 - acc: 0.9806 - f1: 0.9806 - val_loss: 0.0412 - val_acc: 1.0000 - val_f1: 1.0000\n",
      "Epoch 41/100\n",
      "5216/5216 [==============================] - 549s 105ms/step - loss: 0.0313 - acc: 0.9862 - f1: 0.9862 - val_loss: 0.7512 - val_acc: 0.8125 - val_f1: 0.8125\n",
      "Epoch 42/100\n",
      "5216/5216 [==============================] - 550s 105ms/step - loss: 0.0459 - acc: 0.9806 - f1: 0.9806 - val_loss: 0.1777 - val_acc: 0.9375 - val_f1: 0.9375\n",
      "Epoch 43/100\n",
      "5216/5216 [==============================] - 554s 106ms/step - loss: 0.0377 - acc: 0.9862 - f1: 0.9862 - val_loss: 1.7564 - val_acc: 0.6875 - val_f1: 0.6875\n",
      "Epoch 44/100\n",
      "5216/5216 [==============================] - 552s 106ms/step - loss: 0.0428 - acc: 0.9839 - f1: 0.9839 - val_loss: 0.2798 - val_acc: 0.9375 - val_f1: 0.9375\n",
      "Epoch 45/100\n",
      "5216/5216 [==============================] - 549s 105ms/step - loss: 0.0402 - acc: 0.9849 - f1: 0.9849 - val_loss: 0.1622 - val_acc: 0.9375 - val_f1: 0.9375\n",
      "Epoch 46/100\n",
      "5216/5216 [==============================] - 551s 106ms/step - loss: 0.0355 - acc: 0.9883 - f1: 0.9883 - val_loss: 0.5894 - val_acc: 0.9375 - val_f1: 0.9375\n",
      "Epoch 47/100\n",
      "5216/5216 [==============================] - 551s 106ms/step - loss: 0.0324 - acc: 0.9881 - f1: 0.9881 - val_loss: 0.2223 - val_acc: 0.9375 - val_f1: 0.9375\n",
      "Epoch 48/100\n",
      "5216/5216 [==============================] - 552s 106ms/step - loss: 0.0289 - acc: 0.9906 - f1: 0.9906 - val_loss: 0.2451 - val_acc: 0.9375 - val_f1: 0.9375\n",
      "Epoch 49/100\n",
      "5216/5216 [==============================] - 553s 106ms/step - loss: 0.0333 - acc: 0.9891 - f1: 0.9891 - val_loss: 0.5743 - val_acc: 0.9375 - val_f1: 0.9375\n",
      "Epoch 50/100\n",
      "5216/5216 [==============================] - 552s 106ms/step - loss: 0.0304 - acc: 0.9891 - f1: 0.9891 - val_loss: 0.6202 - val_acc: 0.8125 - val_f1: 0.8125\n",
      "Epoch 51/100\n",
      "5216/5216 [==============================] - 550s 105ms/step - loss: 0.0327 - acc: 0.9881 - f1: 0.9881 - val_loss: 0.5307 - val_acc: 0.9375 - val_f1: 0.9375\n",
      "Epoch 52/100\n",
      "5216/5216 [==============================] - 550s 105ms/step - loss: 0.0314 - acc: 0.9873 - f1: 0.9873 - val_loss: 0.0937 - val_acc: 0.9375 - val_f1: 0.9375\n",
      "Epoch 53/100\n",
      "5216/5216 [==============================] - 550s 105ms/step - loss: 0.0336 - acc: 0.9889 - f1: 0.9889 - val_loss: 0.4878 - val_acc: 0.8750 - val_f1: 0.8750\n",
      "Epoch 54/100\n",
      "5216/5216 [==============================] - 553s 106ms/step - loss: 0.0329 - acc: 0.9873 - f1: 0.9873 - val_loss: 0.1092 - val_acc: 0.9375 - val_f1: 0.9375\n",
      "Epoch 55/100\n",
      "5216/5216 [==============================] - 550s 105ms/step - loss: 0.0267 - acc: 0.9902 - f1: 0.9902 - val_loss: 0.4270 - val_acc: 0.8750 - val_f1: 0.8750\n",
      "Epoch 56/100\n",
      "5216/5216 [==============================] - 556s 107ms/step - loss: 0.0345 - acc: 0.9875 - f1: 0.9875 - val_loss: 0.2042 - val_acc: 0.9375 - val_f1: 0.9375\n",
      "Epoch 57/100\n",
      "5216/5216 [==============================] - 552s 106ms/step - loss: 0.0307 - acc: 0.9883 - f1: 0.9883 - val_loss: 0.3405 - val_acc: 0.9375 - val_f1: 0.9375\n",
      "Epoch 58/100\n",
      "5216/5216 [==============================] - 549s 105ms/step - loss: 0.0251 - acc: 0.9908 - f1: 0.9908 - val_loss: 0.2441 - val_acc: 0.8750 - val_f1: 0.8750\n",
      "Epoch 59/100\n",
      "5216/5216 [==============================] - 551s 106ms/step - loss: 0.0260 - acc: 0.9895 - f1: 0.9895 - val_loss: 0.0839 - val_acc: 0.9375 - val_f1: 0.9375\n",
      "Epoch 60/100\n",
      "5216/5216 [==============================] - 550s 106ms/step - loss: 0.0212 - acc: 0.9927 - f1: 0.9927 - val_loss: 0.0528 - val_acc: 1.0000 - val_f1: 1.0000\n",
      "Epoch 61/100\n",
      "5216/5216 [==============================] - 550s 105ms/step - loss: 0.0252 - acc: 0.9898 - f1: 0.9898 - val_loss: 0.0446 - val_acc: 1.0000 - val_f1: 1.0000\n",
      "Epoch 62/100\n",
      "5216/5216 [==============================] - 551s 106ms/step - loss: 0.0264 - acc: 0.9895 - f1: 0.9895 - val_loss: 0.1930 - val_acc: 0.9375 - val_f1: 0.9375\n",
      "Epoch 63/100\n",
      "5216/5216 [==============================] - 554s 106ms/step - loss: 0.0224 - acc: 0.9933 - f1: 0.9933 - val_loss: 0.2683 - val_acc: 0.9375 - val_f1: 0.9375\n",
      "Epoch 64/100\n",
      "5216/5216 [==============================] - 550s 105ms/step - loss: 0.0218 - acc: 0.9912 - f1: 0.9912 - val_loss: 1.3651 - val_acc: 0.8125 - val_f1: 0.8125\n",
      "Epoch 65/100\n",
      "5216/5216 [==============================] - 549s 105ms/step - loss: 0.0227 - acc: 0.9918 - f1: 0.9918 - val_loss: 0.8708 - val_acc: 0.8750 - val_f1: 0.8750\n",
      "Epoch 66/100\n",
      "5216/5216 [==============================] - 551s 106ms/step - loss: 0.0232 - acc: 0.9919 - f1: 0.9919 - val_loss: 0.5651 - val_acc: 0.8125 - val_f1: 0.8125\n",
      "Epoch 67/100\n",
      "5216/5216 [==============================] - 551s 106ms/step - loss: 0.0224 - acc: 0.9918 - f1: 0.9918 - val_loss: 0.1837 - val_acc: 0.8750 - val_f1: 0.8750\n",
      "Epoch 68/100\n",
      "5216/5216 [==============================] - 550s 105ms/step - loss: 0.0264 - acc: 0.9904 - f1: 0.9904 - val_loss: 0.3884 - val_acc: 0.8750 - val_f1: 0.8750\n",
      "Epoch 69/100\n",
      "5216/5216 [==============================] - 551s 106ms/step - loss: 0.0305 - acc: 0.9891 - f1: 0.9891 - val_loss: 0.2431 - val_acc: 0.8750 - val_f1: 0.8750\n",
      "Epoch 70/100\n",
      "5216/5216 [==============================] - 559s 107ms/step - loss: 0.0286 - acc: 0.9906 - f1: 0.9906 - val_loss: 0.0969 - val_acc: 1.0000 - val_f1: 1.0000\n",
      "Epoch 71/100\n",
      "5216/5216 [==============================] - 553s 106ms/step - loss: 0.0127 - acc: 0.9944 - f1: 0.9944 - val_loss: 0.1713 - val_acc: 0.9375 - val_f1: 0.9375\n",
      "Epoch 72/100\n",
      "5216/5216 [==============================] - 551s 106ms/step - loss: 0.0154 - acc: 0.9942 - f1: 0.9942 - val_loss: 0.5323 - val_acc: 0.9375 - val_f1: 0.9375\n",
      "Epoch 73/100\n",
      "5216/5216 [==============================] - 550s 105ms/step - loss: 0.0191 - acc: 0.9933 - f1: 0.9933 - val_loss: 0.5078 - val_acc: 0.8125 - val_f1: 0.8125\n",
      "Epoch 74/100\n",
      "5216/5216 [==============================] - 552s 106ms/step - loss: 0.0233 - acc: 0.9908 - f1: 0.9908 - val_loss: 0.2635 - val_acc: 0.9375 - val_f1: 0.9375\n",
      "Epoch 75/100\n",
      "5216/5216 [==============================] - 550s 106ms/step - loss: 0.0206 - acc: 0.9935 - f1: 0.9935 - val_loss: 0.2047 - val_acc: 0.9375 - val_f1: 0.9375\n",
      "Epoch 76/100\n",
      "5216/5216 [==============================] - 554s 106ms/step - loss: 0.0134 - acc: 0.9950 - f1: 0.9950 - val_loss: 0.0721 - val_acc: 0.9375 - val_f1: 0.9375\n",
      "Epoch 77/100\n",
      "5216/5216 [==============================] - 549s 105ms/step - loss: 0.0182 - acc: 0.9941 - f1: 0.9941 - val_loss: 0.2534 - val_acc: 0.9375 - val_f1: 0.9375\n",
      "Epoch 78/100\n",
      "5216/5216 [==============================] - 549s 105ms/step - loss: 0.0182 - acc: 0.9925 - f1: 0.9925 - val_loss: 0.4336 - val_acc: 0.9375 - val_f1: 0.9375\n",
      "Epoch 79/100\n"
     ]
    },
    {
     "name": "stdout",
     "output_type": "stream",
     "text": [
      "5216/5216 [==============================] - 549s 105ms/step - loss: 0.0128 - acc: 0.9952 - f1: 0.9952 - val_loss: 0.1242 - val_acc: 0.9375 - val_f1: 0.9375\n",
      "Epoch 80/100\n",
      "5216/5216 [==============================] - 552s 106ms/step - loss: 0.0192 - acc: 0.9939 - f1: 0.9939 - val_loss: 0.5735 - val_acc: 0.8750 - val_f1: 0.8750\n",
      "Epoch 81/100\n",
      "5216/5216 [==============================] - 548s 105ms/step - loss: 0.0175 - acc: 0.9935 - f1: 0.9935 - val_loss: 0.1510 - val_acc: 0.9375 - val_f1: 0.9375\n",
      "Epoch 82/100\n",
      "5216/5216 [==============================] - 550s 105ms/step - loss: 0.0260 - acc: 0.9904 - f1: 0.9904 - val_loss: 0.4345 - val_acc: 0.8750 - val_f1: 0.8750\n",
      "Epoch 83/100\n",
      "5216/5216 [==============================] - 551s 106ms/step - loss: 0.0137 - acc: 0.9937 - f1: 0.9937 - val_loss: 0.5081 - val_acc: 0.9375 - val_f1: 0.9375\n",
      "Epoch 84/100\n",
      "5216/5216 [==============================] - 549s 105ms/step - loss: 0.0182 - acc: 0.9944 - f1: 0.9944 - val_loss: 0.3004 - val_acc: 0.8750 - val_f1: 0.8750\n",
      "Epoch 85/100\n",
      "5216/5216 [==============================] - 551s 106ms/step - loss: 0.0212 - acc: 0.9914 - f1: 0.9914 - val_loss: 0.3695 - val_acc: 0.9375 - val_f1: 0.9375\n",
      "Epoch 86/100\n",
      "5216/5216 [==============================] - 549s 105ms/step - loss: 0.0091 - acc: 0.9969 - f1: 0.9969 - val_loss: 1.2408 - val_acc: 0.7500 - val_f1: 0.7500\n",
      "Epoch 87/100\n",
      "5216/5216 [==============================] - 552s 106ms/step - loss: 0.0112 - acc: 0.9958 - f1: 0.9958 - val_loss: 0.1314 - val_acc: 0.9375 - val_f1: 0.9375\n",
      "Epoch 88/100\n",
      "5216/5216 [==============================] - 552s 106ms/step - loss: 0.0224 - acc: 0.9921 - f1: 0.9921 - val_loss: 0.2910 - val_acc: 0.9375 - val_f1: 0.9375\n",
      "Epoch 89/100\n",
      "5216/5216 [==============================] - 558s 107ms/step - loss: 0.0118 - acc: 0.9946 - f1: 0.9946 - val_loss: 0.5925 - val_acc: 0.8750 - val_f1: 0.8750\n",
      "Epoch 90/100\n",
      "5216/5216 [==============================] - 549s 105ms/step - loss: 0.0190 - acc: 0.9946 - f1: 0.9946 - val_loss: 0.5635 - val_acc: 0.8125 - val_f1: 0.8125\n",
      "Epoch 91/100\n",
      "5216/5216 [==============================] - 549s 105ms/step - loss: 0.0120 - acc: 0.9952 - f1: 0.9952 - val_loss: 0.3435 - val_acc: 0.9375 - val_f1: 0.9375\n",
      "Epoch 92/100\n",
      "5216/5216 [==============================] - 550s 106ms/step - loss: 0.0231 - acc: 0.9916 - f1: 0.9916 - val_loss: 0.4864 - val_acc: 0.8750 - val_f1: 0.8750\n",
      "Epoch 93/100\n",
      "5216/5216 [==============================] - 551s 106ms/step - loss: 0.0187 - acc: 0.9933 - f1: 0.9933 - val_loss: 0.4789 - val_acc: 0.8750 - val_f1: 0.8750\n",
      "Epoch 94/100\n",
      "5216/5216 [==============================] - 550s 105ms/step - loss: 0.0196 - acc: 0.9935 - f1: 0.9935 - val_loss: 0.0809 - val_acc: 0.9375 - val_f1: 0.9375\n",
      "Epoch 95/100\n",
      "5216/5216 [==============================] - 551s 106ms/step - loss: 0.0149 - acc: 0.9944 - f1: 0.9944 - val_loss: 0.8736 - val_acc: 0.6875 - val_f1: 0.6875\n",
      "Epoch 96/100\n",
      "5216/5216 [==============================] - 552s 106ms/step - loss: 0.0093 - acc: 0.9967 - f1: 0.9967 - val_loss: 0.5573 - val_acc: 0.9375 - val_f1: 0.9375\n",
      "Epoch 97/100\n",
      "5216/5216 [==============================] - 549s 105ms/step - loss: 0.0140 - acc: 0.9958 - f1: 0.9958 - val_loss: 0.1710 - val_acc: 0.9375 - val_f1: 0.9375\n",
      "Epoch 98/100\n",
      "5216/5216 [==============================] - 552s 106ms/step - loss: 0.0173 - acc: 0.9946 - f1: 0.9946 - val_loss: 0.1211 - val_acc: 0.9375 - val_f1: 0.9375\n",
      "Epoch 99/100\n",
      "5216/5216 [==============================] - 553s 106ms/step - loss: 0.0155 - acc: 0.9960 - f1: 0.9960 - val_loss: 0.1805 - val_acc: 0.9375 - val_f1: 0.9375\n",
      "Epoch 100/100\n",
      "5216/5216 [==============================] - 553s 106ms/step - loss: 0.0097 - acc: 0.9958 - f1: 0.9958 - val_loss: 0.3642 - val_acc: 0.9375 - val_f1: 0.9375\n"
     ]
    }
   ],
   "source": [
    "model1 = createModel()\n",
    "batch_size = 32\n",
    "epochs = 100\n",
    "model1.compile(optimizer='adam', loss='categorical_crossentropy', metrics=['accuracy',f1])\n",
    "\n",
    "model1.summary()\n",
    "\n",
    "history = model1.fit(Images_Matrix_Tra, Y_tra, batch_size=batch_size, epochs=epochs, verbose=1, validation_data=(Images_Matrix_Val, Y_val))"
   ]
  },
  {
   "cell_type": "markdown",
   "metadata": {},
   "source": [
    "# Ploteo"
   ]
  },
  {
   "cell_type": "code",
   "execution_count": 24,
   "metadata": {},
   "outputs": [
    {
     "name": "stdout",
     "output_type": "stream",
     "text": [
      "624/624 [==============================] - 30s 48ms/step\n",
      "Test loss: 2.7408585288585763\n",
      "Test accuracy: 0.7435897435897436\n",
      "Test f1_score: 0.7435896839850988\n",
      "dict_keys(['val_loss', 'val_acc', 'val_f1', 'loss', 'acc', 'f1'])\n"
     ]
    },
    {
     "data": {
      "image/png": "[encoded data removed]",
      "text/plain": [
       "<matplotlib.figure.Figure at 0x2077da9f710>"
      ]
     },
     "metadata": {},
     "output_type": "display_data"
    },
    {
     "data": {
      "image/png": "[encoded data removed]",
      "text/plain": [
       "<matplotlib.figure.Figure at 0x2077da10588>"
      ]
     },
     "metadata": {},
     "output_type": "display_data"
    },
    {
     "data": {
      "image/png": "[encoded data removed]",
      "text/plain": [
       "<matplotlib.figure.Figure at 0x20701fefd68>"
      ]
     },
     "metadata": {},
     "output_type": "display_data"
    }
   ],
   "source": [
    "score = model1.evaluate(Images_Matrix_Test, Y_test)\n",
    "\n",
    "print('Test loss:', score[0])\n",
    "print('Test accuracy:', score[1])\n",
    "print('Test f1_score:', score[2])\n",
    "\n",
    "# list all data in history\n",
    "print(history.history.keys())\n",
    "# summarize history for loss\n",
    "plt.plot(history.history['loss'])\n",
    "plt.plot(history.history['val_loss'])\n",
    "plt.title('model loss')\n",
    "plt.ylabel('loss')\n",
    "plt.xlabel('epoch')\n",
    "plt.legend(['train', 'test'], loc='upper left')\n",
    "plt.show()\n",
    "# summarize history for accuracy\n",
    "plt.plot(history.history['acc'])\n",
    "plt.plot(history.history['val_acc'])\n",
    "plt.title('model accuracy')\n",
    "plt.ylabel('accuracy')\n",
    "plt.xlabel('epoch')\n",
    "plt.legend(['train', 'test'], loc='upper left')\n",
    "plt.show()\n",
    "# summarize history for f1\n",
    "plt.plot(history.history['f1'])\n",
    "plt.plot(history.history['val_f1'])\n",
    "plt.title('f1-score')\n",
    "plt.ylabel('f1')\n",
    "plt.xlabel('epoch')\n",
    "plt.legend(['train', 'test'], loc='upper left')\n",
    "plt.show()"
   ]
  },
  {
   "cell_type": "code",
   "execution_count": 25,
   "metadata": {},
   "outputs": [
    {
     "name": "stdout",
     "output_type": "stream",
     "text": [
      "Test f1_score: 0.7435896839850988\n"
     ]
    },
    {
     "data": {
      "image/png": "[encoded data removed]",
      "text/plain": [
       "<matplotlib.figure.Figure at 0x2077da8ef60>"
      ]
     },
     "metadata": {},
     "output_type": "display_data"
    }
   ],
   "source": [
    "print('Test f1_score:', score[2])\n",
    "# summarize history for f1\n",
    "plt.plot(history.history['f1'])\n",
    "plt.plot(history.history['val_f1'])\n",
    "plt.title('f1-score')\n",
    "plt.ylabel('f1')\n",
    "plt.xlabel('epoch')\n",
    "plt.legend(['train', 'test'], loc='upper left')\n",
    "plt.show()"
   ]
  },
  {
   "cell_type": "code",
   "execution_count": null,
   "metadata": {},
   "outputs": [],
   "source": []
  }
 ],
 "metadata": {
  "kernelspec": {
   "display_name": "Python 3",
   "language": "python",
   "name": "python3"
  },
  "language_info": {
   "codemirror_mode": {
    "name": "ipython",
    "version": 3
   },
   "file_extension": ".py",
   "mimetype": "text/x-python",
   "name": "python",
   "nbconvert_exporter": "python",
   "pygments_lexer": "ipython3",
   "version": "3.7.6"
  }
 },
 "nbformat": 4,
 "nbformat_minor": 2
}
